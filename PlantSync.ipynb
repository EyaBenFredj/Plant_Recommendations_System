{
  "nbformat": 4,
  "nbformat_minor": 0,
  "metadata": {
    "colab": {
      "provenance": []
    },
    "kernelspec": {
      "name": "python3",
      "display_name": "Python 3"
    },
    "language_info": {
      "name": "python"
    }
  },
  "cells": [
    {
      "cell_type": "code",
      "execution_count": 33,
      "metadata": {
        "colab": {
          "base_uri": "https://localhost:8080/"
        },
        "id": "cY_5N-nswSHz",
        "outputId": "1596eaa9-55fd-4dea-f170-d017e1d1e04a"
      },
      "outputs": [
        {
          "output_type": "stream",
          "name": "stdout",
          "text": [
            "Drive already mounted at /content/drive; to attempt to forcibly remount, call drive.mount(\"/content/drive\", force_remount=True).\n"
          ]
        }
      ],
      "source": [
        "from google.colab import drive\n",
        "drive.mount('/content/drive')\n"
      ]
    },
    {
      "cell_type": "code",
      "source": [
        "from google.colab import files\n",
        "\n",
        "# Upload the file\n",
        "uploaded = files.upload()\n"
      ],
      "metadata": {
        "colab": {
          "base_uri": "https://localhost:8080/",
          "height": 90
        },
        "id": "oU6EslnDzLbW",
        "outputId": "a9d5ea55-32df-47d6-f490-c6b1eb10bb24"
      },
      "execution_count": 34,
      "outputs": [
        {
          "output_type": "display_data",
          "data": {
            "text/plain": [
              "<IPython.core.display.HTML object>"
            ],
            "text/html": [
              "\n",
              "     <input type=\"file\" id=\"files-98aa0bd3-ce00-4d68-acb8-bf79687d89bd\" name=\"files[]\" multiple disabled\n",
              "        style=\"border:none\" />\n",
              "     <output id=\"result-98aa0bd3-ce00-4d68-acb8-bf79687d89bd\">\n",
              "      Upload widget is only available when the cell has been executed in the\n",
              "      current browser session. Please rerun this cell to enable.\n",
              "      </output>\n",
              "      <script>// Copyright 2017 Google LLC\n",
              "//\n",
              "// Licensed under the Apache License, Version 2.0 (the \"License\");\n",
              "// you may not use this file except in compliance with the License.\n",
              "// You may obtain a copy of the License at\n",
              "//\n",
              "//      http://www.apache.org/licenses/LICENSE-2.0\n",
              "//\n",
              "// Unless required by applicable law or agreed to in writing, software\n",
              "// distributed under the License is distributed on an \"AS IS\" BASIS,\n",
              "// WITHOUT WARRANTIES OR CONDITIONS OF ANY KIND, either express or implied.\n",
              "// See the License for the specific language governing permissions and\n",
              "// limitations under the License.\n",
              "\n",
              "/**\n",
              " * @fileoverview Helpers for google.colab Python module.\n",
              " */\n",
              "(function(scope) {\n",
              "function span(text, styleAttributes = {}) {\n",
              "  const element = document.createElement('span');\n",
              "  element.textContent = text;\n",
              "  for (const key of Object.keys(styleAttributes)) {\n",
              "    element.style[key] = styleAttributes[key];\n",
              "  }\n",
              "  return element;\n",
              "}\n",
              "\n",
              "// Max number of bytes which will be uploaded at a time.\n",
              "const MAX_PAYLOAD_SIZE = 100 * 1024;\n",
              "\n",
              "function _uploadFiles(inputId, outputId) {\n",
              "  const steps = uploadFilesStep(inputId, outputId);\n",
              "  const outputElement = document.getElementById(outputId);\n",
              "  // Cache steps on the outputElement to make it available for the next call\n",
              "  // to uploadFilesContinue from Python.\n",
              "  outputElement.steps = steps;\n",
              "\n",
              "  return _uploadFilesContinue(outputId);\n",
              "}\n",
              "\n",
              "// This is roughly an async generator (not supported in the browser yet),\n",
              "// where there are multiple asynchronous steps and the Python side is going\n",
              "// to poll for completion of each step.\n",
              "// This uses a Promise to block the python side on completion of each step,\n",
              "// then passes the result of the previous step as the input to the next step.\n",
              "function _uploadFilesContinue(outputId) {\n",
              "  const outputElement = document.getElementById(outputId);\n",
              "  const steps = outputElement.steps;\n",
              "\n",
              "  const next = steps.next(outputElement.lastPromiseValue);\n",
              "  return Promise.resolve(next.value.promise).then((value) => {\n",
              "    // Cache the last promise value to make it available to the next\n",
              "    // step of the generator.\n",
              "    outputElement.lastPromiseValue = value;\n",
              "    return next.value.response;\n",
              "  });\n",
              "}\n",
              "\n",
              "/**\n",
              " * Generator function which is called between each async step of the upload\n",
              " * process.\n",
              " * @param {string} inputId Element ID of the input file picker element.\n",
              " * @param {string} outputId Element ID of the output display.\n",
              " * @return {!Iterable<!Object>} Iterable of next steps.\n",
              " */\n",
              "function* uploadFilesStep(inputId, outputId) {\n",
              "  const inputElement = document.getElementById(inputId);\n",
              "  inputElement.disabled = false;\n",
              "\n",
              "  const outputElement = document.getElementById(outputId);\n",
              "  outputElement.innerHTML = '';\n",
              "\n",
              "  const pickedPromise = new Promise((resolve) => {\n",
              "    inputElement.addEventListener('change', (e) => {\n",
              "      resolve(e.target.files);\n",
              "    });\n",
              "  });\n",
              "\n",
              "  const cancel = document.createElement('button');\n",
              "  inputElement.parentElement.appendChild(cancel);\n",
              "  cancel.textContent = 'Cancel upload';\n",
              "  const cancelPromise = new Promise((resolve) => {\n",
              "    cancel.onclick = () => {\n",
              "      resolve(null);\n",
              "    };\n",
              "  });\n",
              "\n",
              "  // Wait for the user to pick the files.\n",
              "  const files = yield {\n",
              "    promise: Promise.race([pickedPromise, cancelPromise]),\n",
              "    response: {\n",
              "      action: 'starting',\n",
              "    }\n",
              "  };\n",
              "\n",
              "  cancel.remove();\n",
              "\n",
              "  // Disable the input element since further picks are not allowed.\n",
              "  inputElement.disabled = true;\n",
              "\n",
              "  if (!files) {\n",
              "    return {\n",
              "      response: {\n",
              "        action: 'complete',\n",
              "      }\n",
              "    };\n",
              "  }\n",
              "\n",
              "  for (const file of files) {\n",
              "    const li = document.createElement('li');\n",
              "    li.append(span(file.name, {fontWeight: 'bold'}));\n",
              "    li.append(span(\n",
              "        `(${file.type || 'n/a'}) - ${file.size} bytes, ` +\n",
              "        `last modified: ${\n",
              "            file.lastModifiedDate ? file.lastModifiedDate.toLocaleDateString() :\n",
              "                                    'n/a'} - `));\n",
              "    const percent = span('0% done');\n",
              "    li.appendChild(percent);\n",
              "\n",
              "    outputElement.appendChild(li);\n",
              "\n",
              "    const fileDataPromise = new Promise((resolve) => {\n",
              "      const reader = new FileReader();\n",
              "      reader.onload = (e) => {\n",
              "        resolve(e.target.result);\n",
              "      };\n",
              "      reader.readAsArrayBuffer(file);\n",
              "    });\n",
              "    // Wait for the data to be ready.\n",
              "    let fileData = yield {\n",
              "      promise: fileDataPromise,\n",
              "      response: {\n",
              "        action: 'continue',\n",
              "      }\n",
              "    };\n",
              "\n",
              "    // Use a chunked sending to avoid message size limits. See b/62115660.\n",
              "    let position = 0;\n",
              "    do {\n",
              "      const length = Math.min(fileData.byteLength - position, MAX_PAYLOAD_SIZE);\n",
              "      const chunk = new Uint8Array(fileData, position, length);\n",
              "      position += length;\n",
              "\n",
              "      const base64 = btoa(String.fromCharCode.apply(null, chunk));\n",
              "      yield {\n",
              "        response: {\n",
              "          action: 'append',\n",
              "          file: file.name,\n",
              "          data: base64,\n",
              "        },\n",
              "      };\n",
              "\n",
              "      let percentDone = fileData.byteLength === 0 ?\n",
              "          100 :\n",
              "          Math.round((position / fileData.byteLength) * 100);\n",
              "      percent.textContent = `${percentDone}% done`;\n",
              "\n",
              "    } while (position < fileData.byteLength);\n",
              "  }\n",
              "\n",
              "  // All done.\n",
              "  yield {\n",
              "    response: {\n",
              "      action: 'complete',\n",
              "    }\n",
              "  };\n",
              "}\n",
              "\n",
              "scope.google = scope.google || {};\n",
              "scope.google.colab = scope.google.colab || {};\n",
              "scope.google.colab._files = {\n",
              "  _uploadFiles,\n",
              "  _uploadFilesContinue,\n",
              "};\n",
              "})(self);\n",
              "</script> "
            ]
          },
          "metadata": {}
        },
        {
          "output_type": "stream",
          "name": "stdout",
          "text": [
            "Saving Plants_indoor_dataset_iot_AI.xlsx to Plants_indoor_dataset_iot_AI (1).xlsx\n"
          ]
        }
      ]
    },
    {
      "cell_type": "code",
      "source": [
        "import pandas as pd\n",
        "\n",
        "# Load the Excel file into a DataFrame\n",
        "file_name = 'Plants_indoor_dataset_iot_AI.xlsx'  # Use the exact file name\n",
        "data = pd.read_excel(file_name)\n",
        "\n",
        "# Display the first few rows\n",
        "print(\"Dataset Loaded Successfully!\")\n",
        "print(data.head())\n"
      ],
      "metadata": {
        "colab": {
          "base_uri": "https://localhost:8080/"
        },
        "id": "jZvuAZ-_zgpX",
        "outputId": "1a91f452-f0ef-4492-a5ea-5353f6aab61e"
      },
      "execution_count": 35,
      "outputs": [
        {
          "output_type": "stream",
          "name": "stdout",
          "text": [
            "Dataset Loaded Successfully!\n",
            "                 name                               nameArabic  \\\n",
            "0   Abutilon hybridum               أبو طيلون, المزهرة القيقب    \n",
            "1  Achimenes hybrids                                 أتشيمينيز   \n",
            "2      Acorus calamus            القَصَب العِطْرِي,الحلو العلم   \n",
            "3    Acorus gramineus  وَجّ قزم أو وَجّ عشبي,الحلو العلم مصغرة   \n",
            "4  Adiantum raddianum                           برشاوشان لولبي   \n",
            "\n",
            "                                          commonName  \\\n",
            "0  Chinese bellflower, flowering maple, parlor maple   \n",
            "1  Magic Flower,Hot-water plant, window's tears, ...   \n",
            "2                                         Sweet Flag   \n",
            "3                               Miniature Sweet Flag   \n",
            "4                                    Maidenhair Fern   \n",
            "\n",
            "                                           Toxicity  \\\n",
            "0  No Incriminating Information Has Been Discovered   \n",
            "1  No Incriminating Information Has Been Discovered   \n",
            "2                                       Toxic Plant   \n",
            "3                                               NaN   \n",
            "4                                               NaN   \n",
            "\n",
            "                                        General care               Foliage  \\\n",
            "0  Pruning : After flowering, cut spent flower st...  Green in All seasons   \n",
            "1                                                NaN                   NaN   \n",
            "2                                                NaN                   NaN   \n",
            "3                                                NaN                   NaN   \n",
            "4                                                NaN                   NaN   \n",
            "\n",
            "                                              Flower  Unnamed: 7  \\\n",
            "0  Red, Yellow, White, Orange in Spring; White, R...         NaN   \n",
            "1                                                NaN         NaN   \n",
            "2                                                NaN         NaN   \n",
            "3                                                NaN         NaN   \n",
            "4                                                NaN         NaN   \n",
            "\n",
            "                                       Family  Commercial Light levels  \\\n",
            "0     https://en.wikipedia.org/wiki/Malvaceae                      NaN   \n",
            "1  https://en.wikipedia.org/wiki/Gesneriaceae                      NaN   \n",
            "2                                   Acoraceae                      NaN   \n",
            "3                                   Acoraceae                      NaN   \n",
            "4                                 Pteridaceae                      NaN   \n",
            "\n",
            "  brightness temperature solHumidity watering  suggestedSoilMix  \\\n",
            "0          1           1           2        2               1.0   \n",
            "1          2           2           2        1               7.0   \n",
            "2        2_3           2           2        1               2.0   \n",
            "3        2_3           2           2        1               2.0   \n",
            "4        2_3           2           1        1               6.0   \n",
            "\n",
            "                                            Problems  \\\n",
            "0  May suffer from virus.             Specific pe...   \n",
            "1                                                NaN   \n",
            "2                                                NaN   \n",
            "3                                                NaN   \n",
            "4                                                NaN   \n",
            "\n",
            "                                         description  \n",
            "0  Abutilon × hybridum is a species name used for...  \n",
            "1                                                NaN  \n",
            "2                                                NaN  \n",
            "3                                                NaN  \n",
            "4                                                NaN  \n"
          ]
        }
      ]
    },
    {
      "cell_type": "code",
      "source": [
        "print(data.info())  # Column names and data types\n"
      ],
      "metadata": {
        "colab": {
          "base_uri": "https://localhost:8080/"
        },
        "id": "CxrlYPhL2df7",
        "outputId": "0be7531b-dcbb-4e0d-f7ad-80ee4021549b"
      },
      "execution_count": 36,
      "outputs": [
        {
          "output_type": "stream",
          "name": "stdout",
          "text": [
            "<class 'pandas.core.frame.DataFrame'>\n",
            "RangeIndex: 250 entries, 0 to 249\n",
            "Data columns (total 17 columns):\n",
            " #   Column                   Non-Null Count  Dtype  \n",
            "---  ------                   --------------  -----  \n",
            " 0   name                     250 non-null    object \n",
            " 1   nameArabic               51 non-null     object \n",
            " 2   commonName               233 non-null    object \n",
            " 3   Toxicity                 10 non-null     object \n",
            " 4   General care             4 non-null      object \n",
            " 5   Foliage                  1 non-null      object \n",
            " 6   Flower                   1 non-null      object \n",
            " 7   Unnamed: 7               0 non-null      float64\n",
            " 8   Family                   72 non-null     object \n",
            " 9   Commercial Light levels  0 non-null      float64\n",
            " 10  brightness               248 non-null    object \n",
            " 11  temperature              247 non-null    object \n",
            " 12  solHumidity              247 non-null    object \n",
            " 13  watering                 250 non-null    object \n",
            " 14  suggestedSoilMix         248 non-null    float64\n",
            " 15  Problems                 2 non-null      object \n",
            " 16  description              6 non-null      object \n",
            "dtypes: float64(3), object(14)\n",
            "memory usage: 33.3+ KB\n",
            "None\n"
          ]
        }
      ]
    },
    {
      "cell_type": "code",
      "source": [
        "print(data.isnull().sum())  # Missing values in each column\n"
      ],
      "metadata": {
        "colab": {
          "base_uri": "https://localhost:8080/"
        },
        "id": "9ZEGGQRw2jix",
        "outputId": "0d6a56b7-3f9b-4f97-e7ca-a3371ce032ef"
      },
      "execution_count": 37,
      "outputs": [
        {
          "output_type": "stream",
          "name": "stdout",
          "text": [
            "name                         0\n",
            "nameArabic                 199\n",
            "commonName                  17\n",
            "Toxicity                   240\n",
            "General care               246\n",
            "Foliage                    249\n",
            "Flower                     249\n",
            "Unnamed: 7                 250\n",
            "Family                     178\n",
            "Commercial Light levels    250\n",
            "brightness                   2\n",
            "temperature                  3\n",
            "solHumidity                  3\n",
            "watering                     0\n",
            "suggestedSoilMix             2\n",
            "Problems                   248\n",
            "description                244\n",
            "dtype: int64\n"
          ]
        }
      ]
    },
    {
      "cell_type": "code",
      "source": [
        "print(data.describe())  # Numerical column summaries\n"
      ],
      "metadata": {
        "colab": {
          "base_uri": "https://localhost:8080/"
        },
        "id": "3m3GBGUm2qFa",
        "outputId": "3f09f17a-dd4a-45e9-b192-0e4ee8b9cc86"
      },
      "execution_count": 38,
      "outputs": [
        {
          "output_type": "stream",
          "name": "stdout",
          "text": [
            "       Unnamed: 7  Commercial Light levels  suggestedSoilMix\n",
            "count         0.0                      0.0        248.000000\n",
            "mean          NaN                      NaN          2.786290\n",
            "std           NaN                      NaN          1.781226\n",
            "min           NaN                      NaN          0.000000\n",
            "25%           NaN                      NaN          2.000000\n",
            "50%           NaN                      NaN          2.000000\n",
            "75%           NaN                      NaN          5.000000\n",
            "max           NaN                      NaN          7.000000\n"
          ]
        }
      ]
    },
    {
      "cell_type": "code",
      "source": [
        "data.fillna(method='ffill', inplace=True)  # Forward fill\n"
      ],
      "metadata": {
        "colab": {
          "base_uri": "https://localhost:8080/"
        },
        "id": "GWPY411m2uDm",
        "outputId": "14386322-5260-41c8-ceb6-d024d4b64d20"
      },
      "execution_count": 39,
      "outputs": [
        {
          "output_type": "stream",
          "name": "stderr",
          "text": [
            "<ipython-input-39-b6c1af7dc927>:1: FutureWarning: DataFrame.fillna with 'method' is deprecated and will raise in a future version. Use obj.ffill() or obj.bfill() instead.\n",
            "  data.fillna(method='ffill', inplace=True)  # Forward fill\n"
          ]
        }
      ]
    },
    {
      "cell_type": "code",
      "source": [
        "# Select relevant columns\n",
        "data = data[['name', 'brightness', 'temperature', 'solHumidity', 'watering']]\n",
        "print(data.head())\n"
      ],
      "metadata": {
        "colab": {
          "base_uri": "https://localhost:8080/"
        },
        "id": "t_NC6Maw20jQ",
        "outputId": "7902789f-48c2-43d4-8c87-ddb7f4a643df"
      },
      "execution_count": 40,
      "outputs": [
        {
          "output_type": "stream",
          "name": "stdout",
          "text": [
            "                 name brightness temperature solHumidity watering\n",
            "0   Abutilon hybridum          1           1           2        2\n",
            "1  Achimenes hybrids           2           2           2        1\n",
            "2      Acorus calamus        2_3           2           2        1\n",
            "3    Acorus gramineus        2_3           2           2        1\n",
            "4  Adiantum raddianum        2_3           2           1        1\n"
          ]
        }
      ]
    },
    {
      "cell_type": "code",
      "source": [
        "data.dropna(subset=['watering'], inplace=True)\n"
      ],
      "metadata": {
        "id": "Y3_sg5HP3JbM"
      },
      "execution_count": 41,
      "outputs": []
    },
    {
      "cell_type": "code",
      "source": [
        "# Check the data types of the columns\n",
        "print(data[['brightness', 'temperature', 'solHumidity']].dtypes)\n",
        "\n",
        "# Identify unique values in each column to check for non-numeric entries\n",
        "print(data['brightness'].unique())\n",
        "print(data['temperature'].unique())\n",
        "print(data['solHumidity'].unique())\n"
      ],
      "metadata": {
        "colab": {
          "base_uri": "https://localhost:8080/"
        },
        "id": "ExS84Npy3e2t",
        "outputId": "a1bda096-982e-4d24-8166-68c265e93ffe"
      },
      "execution_count": 42,
      "outputs": [
        {
          "output_type": "stream",
          "name": "stdout",
          "text": [
            "brightness     object\n",
            "temperature    object\n",
            "solHumidity    object\n",
            "dtype: object\n",
            "[1 2 '2_3' 3 '1_2' '2,3' '3_4' '2_4' datetime.datetime(2022, 4, 3, 0, 0)\n",
            " datetime.datetime(2022, 3, 1, 0, 0)\n",
            " '1-3                   Give this one bright light, but not direct sunlight.'\n",
            " '1-3  Place it in a well-lit spot where it will receive indirect lighting all day long'\n",
            " '2(\\xa0 Medium-light areas: 75 ft-c to 200 ft-c)'\n",
            " 'Bright indirect lights. Thrives in fluorescent lighting (perfect for apartment living).'\n",
            " '1,2' '2 3']\n",
            "[1 2 3 '2_3' '1,2' '1_2'\n",
            " 'Average: 65°F (18,33 °C)\\xa0\\xa0 night, 75°F (24°C) day temperatures']\n",
            "[2 1 3 '1_2' '2_3' 'Average: 25% to 49%']\n"
          ]
        }
      ]
    },
    {
      "cell_type": "code",
      "source": [
        "# Convert columns to numeric, coercing non-numeric values to NaN\n",
        "data['brightness'] = pd.to_numeric(data['brightness'], errors='coerce')\n",
        "data['temperature'] = pd.to_numeric(data['temperature'], errors='coerce')\n",
        "data['solHumidity'] = pd.to_numeric(data['solHumidity'], errors='coerce')\n"
      ],
      "metadata": {
        "id": "GovzOfMo3iVg"
      },
      "execution_count": 43,
      "outputs": []
    },
    {
      "cell_type": "code",
      "source": [
        "# Fill missing values with the mean of each column\n",
        "data['brightness'].fillna(data['brightness'].mean(), inplace=True)\n",
        "data['temperature'].fillna(data['temperature'].mean(), inplace=True)\n",
        "data['solHumidity'].fillna(data['solHumidity'].mean(), inplace=True)\n"
      ],
      "metadata": {
        "colab": {
          "base_uri": "https://localhost:8080/"
        },
        "id": "trUnzrRU4DMP",
        "outputId": "a7192132-8758-447a-e614-f959d23a7e17"
      },
      "execution_count": 44,
      "outputs": [
        {
          "output_type": "stream",
          "name": "stderr",
          "text": [
            "<ipython-input-44-43d6799278ca>:2: FutureWarning: A value is trying to be set on a copy of a DataFrame or Series through chained assignment using an inplace method.\n",
            "The behavior will change in pandas 3.0. This inplace method will never work because the intermediate object on which we are setting values always behaves as a copy.\n",
            "\n",
            "For example, when doing 'df[col].method(value, inplace=True)', try using 'df.method({col: value}, inplace=True)' or df[col] = df[col].method(value) instead, to perform the operation inplace on the original object.\n",
            "\n",
            "\n",
            "  data['brightness'].fillna(data['brightness'].mean(), inplace=True)\n",
            "<ipython-input-44-43d6799278ca>:3: FutureWarning: A value is trying to be set on a copy of a DataFrame or Series through chained assignment using an inplace method.\n",
            "The behavior will change in pandas 3.0. This inplace method will never work because the intermediate object on which we are setting values always behaves as a copy.\n",
            "\n",
            "For example, when doing 'df[col].method(value, inplace=True)', try using 'df.method({col: value}, inplace=True)' or df[col] = df[col].method(value) instead, to perform the operation inplace on the original object.\n",
            "\n",
            "\n",
            "  data['temperature'].fillna(data['temperature'].mean(), inplace=True)\n",
            "<ipython-input-44-43d6799278ca>:4: FutureWarning: A value is trying to be set on a copy of a DataFrame or Series through chained assignment using an inplace method.\n",
            "The behavior will change in pandas 3.0. This inplace method will never work because the intermediate object on which we are setting values always behaves as a copy.\n",
            "\n",
            "For example, when doing 'df[col].method(value, inplace=True)', try using 'df.method({col: value}, inplace=True)' or df[col] = df[col].method(value) instead, to perform the operation inplace on the original object.\n",
            "\n",
            "\n",
            "  data['solHumidity'].fillna(data['solHumidity'].mean(), inplace=True)\n"
          ]
        }
      ]
    },
    {
      "cell_type": "code",
      "source": [
        "# Normalize numerical columns\n",
        "data['brightness'] = (data['brightness'] - data['brightness'].mean()) / data['brightness'].std()\n",
        "data['temperature'] = (data['temperature'] - data['temperature'].mean()) / data['temperature'].std()\n",
        "data['solHumidity'] = (data['solHumidity'] - data['solHumidity'].mean()) / data['solHumidity'].std()\n"
      ],
      "metadata": {
        "id": "ASJf4AP_4HEY"
      },
      "execution_count": 45,
      "outputs": []
    },
    {
      "cell_type": "code",
      "source": [
        "print(data[['brightness', 'temperature', 'solHumidity']].head())\n"
      ],
      "metadata": {
        "colab": {
          "base_uri": "https://localhost:8080/"
        },
        "id": "2-x1b_nK4LmX",
        "outputId": "4ef02013-0175-4d6e-ebc6-4d3a33b0703f"
      },
      "execution_count": 46,
      "outputs": [
        {
          "output_type": "stream",
          "name": "stdout",
          "text": [
            "   brightness  temperature  solHumidity\n",
            "0   -2.591513    -5.535734    -0.128382\n",
            "1    0.334389     0.049426    -0.128382\n",
            "2    0.000000     0.049426    -0.128382\n",
            "3    0.000000     0.049426    -0.128382\n",
            "4    0.000000     0.049426    -2.524837\n"
          ]
        }
      ]
    },
    {
      "cell_type": "code",
      "source": [
        "from sklearn.model_selection import train_test_split\n",
        "\n",
        "# Define features (X) and target (y)\n",
        "X = data[['brightness', 'temperature', 'solHumidity']]  # Features\n",
        "y = data['watering']  # Target (replace with the actual column name if different)\n",
        "\n",
        "# Split the data into training and testing sets\n",
        "X_train, X_test, y_train, y_test = train_test_split(X, y, test_size=0.2, random_state=42)\n",
        "print(\"Data split into training and testing sets.\")\n"
      ],
      "metadata": {
        "colab": {
          "base_uri": "https://localhost:8080/"
        },
        "id": "o_k1w5vh4Soh",
        "outputId": "ec83faf5-1f42-42ff-927c-b2dff4483b21"
      },
      "execution_count": 47,
      "outputs": [
        {
          "output_type": "stream",
          "name": "stdout",
          "text": [
            "Data split into training and testing sets.\n"
          ]
        }
      ]
    },
    {
      "cell_type": "code",
      "source": [
        "# Check the unique values in the 'watering' column\n",
        "print(data['watering'].unique())\n",
        "# Convert the 'watering' column to numeric, coercing non-numeric to NaN\n",
        "data['watering'] = pd.to_numeric(data['watering'], errors='coerce')\n",
        "\n",
        "# Replace NaN values with the median of the column\n",
        "data['watering'].fillna(data['watering'].median(), inplace=True)\n"
      ],
      "metadata": {
        "colab": {
          "base_uri": "https://localhost:8080/"
        },
        "id": "4QRttmdb4-yT",
        "outputId": "91b92476-a3c6-4223-a713-fa97d4aae03b"
      },
      "execution_count": 48,
      "outputs": [
        {
          "output_type": "stream",
          "name": "stdout",
          "text": [
            "[2 1 3 'undefined'\n",
            " '2                           Try watering it about 1 to 2 times a week (yellow leaves = lay off the water). Let the soil dry on top before watering. Make sure to really keep it moist during the summer, which is when it thrives.'\n",
            " '2                     Keep the soil moist, but let at least 1 inch of soil dry out before watering again. During the summer it requires more frequent watering.'\n",
            " 0 'Water when the soil is almost completely dry at top']\n"
          ]
        },
        {
          "output_type": "stream",
          "name": "stderr",
          "text": [
            "<ipython-input-48-0ebb456b117e>:7: FutureWarning: A value is trying to be set on a copy of a DataFrame or Series through chained assignment using an inplace method.\n",
            "The behavior will change in pandas 3.0. This inplace method will never work because the intermediate object on which we are setting values always behaves as a copy.\n",
            "\n",
            "For example, when doing 'df[col].method(value, inplace=True)', try using 'df.method({col: value}, inplace=True)' or df[col] = df[col].method(value) instead, to perform the operation inplace on the original object.\n",
            "\n",
            "\n",
            "  data['watering'].fillna(data['watering'].median(), inplace=True)\n"
          ]
        }
      ]
    },
    {
      "cell_type": "code",
      "source": [
        "# Check unique values and data type\n",
        "print(data['watering'].unique())\n",
        "print(data['watering'].dtype)  # Should be 'float64' or 'int64'\n"
      ],
      "metadata": {
        "colab": {
          "base_uri": "https://localhost:8080/"
        },
        "id": "QM5hIuLK4bjs",
        "outputId": "660b7acf-ea4a-46e4-968f-a2108d913e1b"
      },
      "execution_count": 49,
      "outputs": [
        {
          "output_type": "stream",
          "name": "stdout",
          "text": [
            "[2. 1. 3. 0.]\n",
            "float64\n"
          ]
        }
      ]
    },
    {
      "cell_type": "code",
      "source": [
        "from sklearn.model_selection import train_test_split\n",
        "\n",
        "# Define features and target\n",
        "X = data[['brightness', 'temperature', 'solHumidity']]  # Features\n",
        "y = data['watering']  # Target\n",
        "\n",
        "# Split data\n",
        "X_train, X_test, y_train, y_test = train_test_split(X, y, test_size=0.2, random_state=42)\n"
      ],
      "metadata": {
        "id": "nSqM3EAS4kPR"
      },
      "execution_count": 50,
      "outputs": []
    },
    {
      "cell_type": "code",
      "source": [
        "!pip install --upgrade scikit-learn\n"
      ],
      "metadata": {
        "colab": {
          "base_uri": "https://localhost:8080/"
        },
        "id": "teZdwjI46W9j",
        "outputId": "860c956e-b18b-4525-8ed5-13c37e2967ca"
      },
      "execution_count": 53,
      "outputs": [
        {
          "output_type": "stream",
          "name": "stdout",
          "text": [
            "Requirement already satisfied: scikit-learn in /usr/local/lib/python3.10/dist-packages (1.6.0)\n",
            "Requirement already satisfied: numpy>=1.19.5 in /usr/local/lib/python3.10/dist-packages (from scikit-learn) (1.26.4)\n",
            "Requirement already satisfied: scipy>=1.6.0 in /usr/local/lib/python3.10/dist-packages (from scikit-learn) (1.13.1)\n",
            "Requirement already satisfied: joblib>=1.2.0 in /usr/local/lib/python3.10/dist-packages (from scikit-learn) (1.4.2)\n",
            "Requirement already satisfied: threadpoolctl>=3.1.0 in /usr/local/lib/python3.10/dist-packages (from scikit-learn) (3.5.0)\n"
          ]
        }
      ]
    },
    {
      "cell_type": "code",
      "source": [
        "from sklearn.ensemble import RandomForestRegressor\n",
        "from sklearn.metrics import mean_squared_error\n",
        "import numpy as np  # Add this if manually computing RMSE\n",
        "\n",
        "# Initialize and train the model\n",
        "model = RandomForestRegressor(random_state=42)\n",
        "model.fit(X_train, y_train)\n",
        "\n",
        "# Predict on test set\n",
        "y_pred = model.predict(X_test)\n",
        "\n",
        "# Evaluate the model using RMSE\n",
        "# Use this if scikit-learn is updated:\n",
        "# rmse = mean_squared_error(y_test, y_pred, squared=False)\n",
        "\n",
        "# Use this if scikit-learn is outdated:\n",
        "rmse = np.sqrt(mean_squared_error(y_test, y_pred))\n",
        "\n",
        "print(f\"RMSE: {rmse}\")\n"
      ],
      "metadata": {
        "colab": {
          "base_uri": "https://localhost:8080/"
        },
        "id": "HDxiKrT35acM",
        "outputId": "57b9c732-2868-4d69-bebb-895ef320b275"
      },
      "execution_count": 56,
      "outputs": [
        {
          "output_type": "stream",
          "name": "stdout",
          "text": [
            "RMSE: 0.5650479162495466\n"
          ]
        }
      ]
    },
    {
      "cell_type": "code",
      "source": [
        "import joblib\n",
        "\n",
        "# Save the trained model to a file\n",
        "model_path = '/content/drive/My Drive/plant_care_model.pkl'\n",
        "joblib.dump(model, model_path)\n",
        "print(f\"Model saved at: {model_path}\")\n"
      ],
      "metadata": {
        "colab": {
          "base_uri": "https://localhost:8080/"
        },
        "id": "vpeK1LH75dw3",
        "outputId": "ad0b8e41-3273-4dd5-990f-07be92da6484"
      },
      "execution_count": 57,
      "outputs": [
        {
          "output_type": "stream",
          "name": "stdout",
          "text": [
            "Model saved at: /content/drive/My Drive/plant_care_model.pkl\n"
          ]
        }
      ]
    },
    {
      "cell_type": "code",
      "source": [
        "# Example normalized input: brightness, temperature, solHumidity\n",
        "sample_input = [[0.5, -1.2, 0.8]]  # Replace with realistic normalized values\n",
        "\n",
        "# Predict using the trained model\n",
        "sample_prediction = model.predict(sample_input)\n",
        "print(f\"Predicted Watering Frequency: {sample_prediction[0]}\")\n"
      ],
      "metadata": {
        "colab": {
          "base_uri": "https://localhost:8080/"
        },
        "id": "aYVAMh6S6w0h",
        "outputId": "ffcc3272-016b-4da9-b304-0582f5bc723d"
      },
      "execution_count": 58,
      "outputs": [
        {
          "output_type": "stream",
          "name": "stdout",
          "text": [
            "Predicted Watering Frequency: 1.924336956521739\n"
          ]
        },
        {
          "output_type": "stream",
          "name": "stderr",
          "text": [
            "/usr/local/lib/python3.10/dist-packages/sklearn/utils/validation.py:2739: UserWarning: X does not have valid feature names, but RandomForestRegressor was fitted with feature names\n",
            "  warnings.warn(\n"
          ]
        }
      ]
    },
    {
      "cell_type": "code",
      "source": [
        "from google.colab import files\n",
        "\n",
        "# Save the model to a file and download it\n",
        "joblib.dump(model, 'plant_care_model.pkl')\n",
        "files.download('plant_care_model.pkl')\n"
      ],
      "metadata": {
        "colab": {
          "base_uri": "https://localhost:8080/",
          "height": 17
        },
        "id": "6IOt0UjP60GU",
        "outputId": "7242434f-22e4-4e18-8a4c-5cfb072228a9"
      },
      "execution_count": 59,
      "outputs": [
        {
          "output_type": "display_data",
          "data": {
            "text/plain": [
              "<IPython.core.display.Javascript object>"
            ],
            "application/javascript": [
              "\n",
              "    async function download(id, filename, size) {\n",
              "      if (!google.colab.kernel.accessAllowed) {\n",
              "        return;\n",
              "      }\n",
              "      const div = document.createElement('div');\n",
              "      const label = document.createElement('label');\n",
              "      label.textContent = `Downloading \"${filename}\": `;\n",
              "      div.appendChild(label);\n",
              "      const progress = document.createElement('progress');\n",
              "      progress.max = size;\n",
              "      div.appendChild(progress);\n",
              "      document.body.appendChild(div);\n",
              "\n",
              "      const buffers = [];\n",
              "      let downloaded = 0;\n",
              "\n",
              "      const channel = await google.colab.kernel.comms.open(id);\n",
              "      // Send a message to notify the kernel that we're ready.\n",
              "      channel.send({})\n",
              "\n",
              "      for await (const message of channel.messages) {\n",
              "        // Send a message to notify the kernel that we're ready.\n",
              "        channel.send({})\n",
              "        if (message.buffers) {\n",
              "          for (const buffer of message.buffers) {\n",
              "            buffers.push(buffer);\n",
              "            downloaded += buffer.byteLength;\n",
              "            progress.value = downloaded;\n",
              "          }\n",
              "        }\n",
              "      }\n",
              "      const blob = new Blob(buffers, {type: 'application/binary'});\n",
              "      const a = document.createElement('a');\n",
              "      a.href = window.URL.createObjectURL(blob);\n",
              "      a.download = filename;\n",
              "      div.appendChild(a);\n",
              "      a.click();\n",
              "      div.remove();\n",
              "    }\n",
              "  "
            ]
          },
          "metadata": {}
        },
        {
          "output_type": "display_data",
          "data": {
            "text/plain": [
              "<IPython.core.display.Javascript object>"
            ],
            "application/javascript": [
              "download(\"download_f05cc439-8b51-4096-9a32-f26602066b47\", \"plant_care_model.pkl\", 265857)"
            ]
          },
          "metadata": {}
        }
      ]
    },
    {
      "cell_type": "code",
      "source": [],
      "metadata": {
        "id": "QQjaOglr9vS8"
      },
      "execution_count": null,
      "outputs": []
    }
  ]
}